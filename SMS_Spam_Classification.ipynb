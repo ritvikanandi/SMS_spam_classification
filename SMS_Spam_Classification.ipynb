{
  "nbformat": 4,
  "nbformat_minor": 0,
  "metadata": {
    "colab": {
      "name": "SMS Spam Classification.ipynb",
      "provenance": [],
      "collapsed_sections": []
    },
    "kernelspec": {
      "name": "python3",
      "display_name": "Python 3"
    },
    "language_info": {
      "name": "python"
    }
  },
  "cells": [
    {
      "cell_type": "markdown",
      "metadata": {
        "id": "kJybNGmWe-YT"
      },
      "source": [
        "**Context**\n",
        "\n",
        "The SMS Spam Collection is a set of SMS tagged messages that have been collected for SMS Spam research. \n",
        "It contains one set of SMS messages in English of 5,574 messages, tagged acording being ham (legitimate) or spam.\n",
        "\n",
        "**Objective**\n",
        "\n",
        "To classify the messages as Spam or Ham using NLP."
      ]
    },
    {
      "cell_type": "markdown",
      "metadata": {
        "id": "W8jSFoDyQHwY"
      },
      "source": [
        "<h1>Importing Libraries</h1>"
      ]
    },
    {
      "cell_type": "code",
      "metadata": {
        "colab": {
          "base_uri": "https://localhost:8080/"
        },
        "id": "iah-DRh0QMQ2",
        "outputId": "fa985785-11a0-4b33-85c0-4a0c32623af3"
      },
      "source": [
        "import pandas as pd\n",
        "import numpy as np\n",
        "import nltk\n",
        "nltk.download(\"stopwords\")"
      ],
      "execution_count": 1,
      "outputs": [
        {
          "output_type": "stream",
          "text": [
            "[nltk_data] Downloading package stopwords to /root/nltk_data...\n",
            "[nltk_data]   Unzipping corpora/stopwords.zip.\n"
          ],
          "name": "stdout"
        },
        {
          "output_type": "execute_result",
          "data": {
            "text/plain": [
              "True"
            ]
          },
          "metadata": {
            "tags": []
          },
          "execution_count": 1
        }
      ]
    },
    {
      "cell_type": "markdown",
      "metadata": {
        "id": "fiHzvVEnQTfn"
      },
      "source": [
        "<h1>Loading Data</h1>"
      ]
    },
    {
      "cell_type": "code",
      "metadata": {
        "id": "81YpQKvFQRvv"
      },
      "source": [
        "data = pd.read_csv('spam.csv', encoding='Latin-1')"
      ],
      "execution_count": 2,
      "outputs": []
    },
    {
      "cell_type": "code",
      "metadata": {
        "colab": {
          "base_uri": "https://localhost:8080/",
          "height": 204
        },
        "id": "iJHYMJhhQmbI",
        "outputId": "28500779-1a35-4527-bf7c-841399dc66c5"
      },
      "source": [
        "data.head()"
      ],
      "execution_count": 3,
      "outputs": [
        {
          "output_type": "execute_result",
          "data": {
            "text/html": [
              "<div>\n",
              "<style scoped>\n",
              "    .dataframe tbody tr th:only-of-type {\n",
              "        vertical-align: middle;\n",
              "    }\n",
              "\n",
              "    .dataframe tbody tr th {\n",
              "        vertical-align: top;\n",
              "    }\n",
              "\n",
              "    .dataframe thead th {\n",
              "        text-align: right;\n",
              "    }\n",
              "</style>\n",
              "<table border=\"1\" class=\"dataframe\">\n",
              "  <thead>\n",
              "    <tr style=\"text-align: right;\">\n",
              "      <th></th>\n",
              "      <th>v1</th>\n",
              "      <th>v2</th>\n",
              "      <th>Unnamed: 2</th>\n",
              "      <th>Unnamed: 3</th>\n",
              "      <th>Unnamed: 4</th>\n",
              "    </tr>\n",
              "  </thead>\n",
              "  <tbody>\n",
              "    <tr>\n",
              "      <th>0</th>\n",
              "      <td>ham</td>\n",
              "      <td>Go until jurong point, crazy.. Available only ...</td>\n",
              "      <td>NaN</td>\n",
              "      <td>NaN</td>\n",
              "      <td>NaN</td>\n",
              "    </tr>\n",
              "    <tr>\n",
              "      <th>1</th>\n",
              "      <td>ham</td>\n",
              "      <td>Ok lar... Joking wif u oni...</td>\n",
              "      <td>NaN</td>\n",
              "      <td>NaN</td>\n",
              "      <td>NaN</td>\n",
              "    </tr>\n",
              "    <tr>\n",
              "      <th>2</th>\n",
              "      <td>spam</td>\n",
              "      <td>Free entry in 2 a wkly comp to win FA Cup fina...</td>\n",
              "      <td>NaN</td>\n",
              "      <td>NaN</td>\n",
              "      <td>NaN</td>\n",
              "    </tr>\n",
              "    <tr>\n",
              "      <th>3</th>\n",
              "      <td>ham</td>\n",
              "      <td>U dun say so early hor... U c already then say...</td>\n",
              "      <td>NaN</td>\n",
              "      <td>NaN</td>\n",
              "      <td>NaN</td>\n",
              "    </tr>\n",
              "    <tr>\n",
              "      <th>4</th>\n",
              "      <td>ham</td>\n",
              "      <td>Nah I don't think he goes to usf, he lives aro...</td>\n",
              "      <td>NaN</td>\n",
              "      <td>NaN</td>\n",
              "      <td>NaN</td>\n",
              "    </tr>\n",
              "  </tbody>\n",
              "</table>\n",
              "</div>"
            ],
            "text/plain": [
              "     v1  ... Unnamed: 4\n",
              "0   ham  ...        NaN\n",
              "1   ham  ...        NaN\n",
              "2  spam  ...        NaN\n",
              "3   ham  ...        NaN\n",
              "4   ham  ...        NaN\n",
              "\n",
              "[5 rows x 5 columns]"
            ]
          },
          "metadata": {
            "tags": []
          },
          "execution_count": 3
        }
      ]
    },
    {
      "cell_type": "code",
      "metadata": {
        "id": "yqfHvFaZQn0O"
      },
      "source": [
        "data = data.drop(['Unnamed: 2', 'Unnamed: 3', 'Unnamed: 4'], axis=1)"
      ],
      "execution_count": 4,
      "outputs": []
    },
    {
      "cell_type": "code",
      "metadata": {
        "colab": {
          "base_uri": "https://localhost:8080/",
          "height": 204
        },
        "id": "v9qdGVZzQ8z6",
        "outputId": "a584e85c-16fc-47b7-9bfa-93068a88fe8e"
      },
      "source": [
        "data.head()"
      ],
      "execution_count": 5,
      "outputs": [
        {
          "output_type": "execute_result",
          "data": {
            "text/html": [
              "<div>\n",
              "<style scoped>\n",
              "    .dataframe tbody tr th:only-of-type {\n",
              "        vertical-align: middle;\n",
              "    }\n",
              "\n",
              "    .dataframe tbody tr th {\n",
              "        vertical-align: top;\n",
              "    }\n",
              "\n",
              "    .dataframe thead th {\n",
              "        text-align: right;\n",
              "    }\n",
              "</style>\n",
              "<table border=\"1\" class=\"dataframe\">\n",
              "  <thead>\n",
              "    <tr style=\"text-align: right;\">\n",
              "      <th></th>\n",
              "      <th>v1</th>\n",
              "      <th>v2</th>\n",
              "    </tr>\n",
              "  </thead>\n",
              "  <tbody>\n",
              "    <tr>\n",
              "      <th>0</th>\n",
              "      <td>ham</td>\n",
              "      <td>Go until jurong point, crazy.. Available only ...</td>\n",
              "    </tr>\n",
              "    <tr>\n",
              "      <th>1</th>\n",
              "      <td>ham</td>\n",
              "      <td>Ok lar... Joking wif u oni...</td>\n",
              "    </tr>\n",
              "    <tr>\n",
              "      <th>2</th>\n",
              "      <td>spam</td>\n",
              "      <td>Free entry in 2 a wkly comp to win FA Cup fina...</td>\n",
              "    </tr>\n",
              "    <tr>\n",
              "      <th>3</th>\n",
              "      <td>ham</td>\n",
              "      <td>U dun say so early hor... U c already then say...</td>\n",
              "    </tr>\n",
              "    <tr>\n",
              "      <th>4</th>\n",
              "      <td>ham</td>\n",
              "      <td>Nah I don't think he goes to usf, he lives aro...</td>\n",
              "    </tr>\n",
              "  </tbody>\n",
              "</table>\n",
              "</div>"
            ],
            "text/plain": [
              "     v1                                                 v2\n",
              "0   ham  Go until jurong point, crazy.. Available only ...\n",
              "1   ham                      Ok lar... Joking wif u oni...\n",
              "2  spam  Free entry in 2 a wkly comp to win FA Cup fina...\n",
              "3   ham  U dun say so early hor... U c already then say...\n",
              "4   ham  Nah I don't think he goes to usf, he lives aro..."
            ]
          },
          "metadata": {
            "tags": []
          },
          "execution_count": 5
        }
      ]
    },
    {
      "cell_type": "code",
      "metadata": {
        "id": "dBkAANsDQ-re"
      },
      "source": [
        "data.rename(columns= {\"v1\":\"label\", \"v2\":\"message\"}, inplace=True) "
      ],
      "execution_count": 6,
      "outputs": []
    },
    {
      "cell_type": "code",
      "metadata": {
        "colab": {
          "base_uri": "https://localhost:8080/",
          "height": 204
        },
        "id": "CrLk10QPRLwq",
        "outputId": "675bdbb8-8f66-4d89-9af6-02e34f16ea73"
      },
      "source": [
        "data.head()"
      ],
      "execution_count": 7,
      "outputs": [
        {
          "output_type": "execute_result",
          "data": {
            "text/html": [
              "<div>\n",
              "<style scoped>\n",
              "    .dataframe tbody tr th:only-of-type {\n",
              "        vertical-align: middle;\n",
              "    }\n",
              "\n",
              "    .dataframe tbody tr th {\n",
              "        vertical-align: top;\n",
              "    }\n",
              "\n",
              "    .dataframe thead th {\n",
              "        text-align: right;\n",
              "    }\n",
              "</style>\n",
              "<table border=\"1\" class=\"dataframe\">\n",
              "  <thead>\n",
              "    <tr style=\"text-align: right;\">\n",
              "      <th></th>\n",
              "      <th>label</th>\n",
              "      <th>message</th>\n",
              "    </tr>\n",
              "  </thead>\n",
              "  <tbody>\n",
              "    <tr>\n",
              "      <th>0</th>\n",
              "      <td>ham</td>\n",
              "      <td>Go until jurong point, crazy.. Available only ...</td>\n",
              "    </tr>\n",
              "    <tr>\n",
              "      <th>1</th>\n",
              "      <td>ham</td>\n",
              "      <td>Ok lar... Joking wif u oni...</td>\n",
              "    </tr>\n",
              "    <tr>\n",
              "      <th>2</th>\n",
              "      <td>spam</td>\n",
              "      <td>Free entry in 2 a wkly comp to win FA Cup fina...</td>\n",
              "    </tr>\n",
              "    <tr>\n",
              "      <th>3</th>\n",
              "      <td>ham</td>\n",
              "      <td>U dun say so early hor... U c already then say...</td>\n",
              "    </tr>\n",
              "    <tr>\n",
              "      <th>4</th>\n",
              "      <td>ham</td>\n",
              "      <td>Nah I don't think he goes to usf, he lives aro...</td>\n",
              "    </tr>\n",
              "  </tbody>\n",
              "</table>\n",
              "</div>"
            ],
            "text/plain": [
              "  label                                            message\n",
              "0   ham  Go until jurong point, crazy.. Available only ...\n",
              "1   ham                      Ok lar... Joking wif u oni...\n",
              "2  spam  Free entry in 2 a wkly comp to win FA Cup fina...\n",
              "3   ham  U dun say so early hor... U c already then say...\n",
              "4   ham  Nah I don't think he goes to usf, he lives aro..."
            ]
          },
          "metadata": {
            "tags": []
          },
          "execution_count": 7
        }
      ]
    },
    {
      "cell_type": "markdown",
      "metadata": {
        "id": "28y9dIvFST_6"
      },
      "source": [
        "<h1>Handling Categorical Data</h1>"
      ]
    },
    {
      "cell_type": "code",
      "metadata": {
        "id": "t-PwQr5FR65V"
      },
      "source": [
        "data = pd.get_dummies(data, columns=['label'])"
      ],
      "execution_count": 8,
      "outputs": []
    },
    {
      "cell_type": "code",
      "metadata": {
        "colab": {
          "base_uri": "https://localhost:8080/",
          "height": 204
        },
        "id": "E3yyKvqhSkOg",
        "outputId": "98b7365d-57f2-4778-bccc-996c47e57809"
      },
      "source": [
        "data.head()"
      ],
      "execution_count": 9,
      "outputs": [
        {
          "output_type": "execute_result",
          "data": {
            "text/html": [
              "<div>\n",
              "<style scoped>\n",
              "    .dataframe tbody tr th:only-of-type {\n",
              "        vertical-align: middle;\n",
              "    }\n",
              "\n",
              "    .dataframe tbody tr th {\n",
              "        vertical-align: top;\n",
              "    }\n",
              "\n",
              "    .dataframe thead th {\n",
              "        text-align: right;\n",
              "    }\n",
              "</style>\n",
              "<table border=\"1\" class=\"dataframe\">\n",
              "  <thead>\n",
              "    <tr style=\"text-align: right;\">\n",
              "      <th></th>\n",
              "      <th>message</th>\n",
              "      <th>label_ham</th>\n",
              "      <th>label_spam</th>\n",
              "    </tr>\n",
              "  </thead>\n",
              "  <tbody>\n",
              "    <tr>\n",
              "      <th>0</th>\n",
              "      <td>Go until jurong point, crazy.. Available only ...</td>\n",
              "      <td>1</td>\n",
              "      <td>0</td>\n",
              "    </tr>\n",
              "    <tr>\n",
              "      <th>1</th>\n",
              "      <td>Ok lar... Joking wif u oni...</td>\n",
              "      <td>1</td>\n",
              "      <td>0</td>\n",
              "    </tr>\n",
              "    <tr>\n",
              "      <th>2</th>\n",
              "      <td>Free entry in 2 a wkly comp to win FA Cup fina...</td>\n",
              "      <td>0</td>\n",
              "      <td>1</td>\n",
              "    </tr>\n",
              "    <tr>\n",
              "      <th>3</th>\n",
              "      <td>U dun say so early hor... U c already then say...</td>\n",
              "      <td>1</td>\n",
              "      <td>0</td>\n",
              "    </tr>\n",
              "    <tr>\n",
              "      <th>4</th>\n",
              "      <td>Nah I don't think he goes to usf, he lives aro...</td>\n",
              "      <td>1</td>\n",
              "      <td>0</td>\n",
              "    </tr>\n",
              "  </tbody>\n",
              "</table>\n",
              "</div>"
            ],
            "text/plain": [
              "                                             message  label_ham  label_spam\n",
              "0  Go until jurong point, crazy.. Available only ...          1           0\n",
              "1                      Ok lar... Joking wif u oni...          1           0\n",
              "2  Free entry in 2 a wkly comp to win FA Cup fina...          0           1\n",
              "3  U dun say so early hor... U c already then say...          1           0\n",
              "4  Nah I don't think he goes to usf, he lives aro...          1           0"
            ]
          },
          "metadata": {
            "tags": []
          },
          "execution_count": 9
        }
      ]
    },
    {
      "cell_type": "code",
      "metadata": {
        "colab": {
          "base_uri": "https://localhost:8080/"
        },
        "id": "v1e56WQJSmBn",
        "outputId": "6716ef02-3281-4eee-f283-d28e48788d36"
      },
      "source": [
        "data['label_ham'].value_counts()"
      ],
      "execution_count": 10,
      "outputs": [
        {
          "output_type": "execute_result",
          "data": {
            "text/plain": [
              "1    4825\n",
              "0     747\n",
              "Name: label_ham, dtype: int64"
            ]
          },
          "metadata": {
            "tags": []
          },
          "execution_count": 10
        }
      ]
    },
    {
      "cell_type": "code",
      "metadata": {
        "colab": {
          "base_uri": "https://localhost:8080/"
        },
        "id": "rME9IEjKSrLH",
        "outputId": "c4070e52-bdf6-4ccd-dd7b-c82956fd2324"
      },
      "source": [
        "data.info()"
      ],
      "execution_count": 11,
      "outputs": [
        {
          "output_type": "stream",
          "text": [
            "<class 'pandas.core.frame.DataFrame'>\n",
            "RangeIndex: 5572 entries, 0 to 5571\n",
            "Data columns (total 3 columns):\n",
            " #   Column      Non-Null Count  Dtype \n",
            "---  ------      --------------  ----- \n",
            " 0   message     5572 non-null   object\n",
            " 1   label_ham   5572 non-null   uint8 \n",
            " 2   label_spam  5572 non-null   uint8 \n",
            "dtypes: object(1), uint8(2)\n",
            "memory usage: 54.5+ KB\n"
          ],
          "name": "stdout"
        }
      ]
    },
    {
      "cell_type": "code",
      "metadata": {
        "id": "ILcN9KcEStfM"
      },
      "source": [
        "data['count'] = 0\n",
        "for i in np.arange(0, len(data.message)):\n",
        "  data.loc[i, 'count'] = len(data.loc[i, 'message'])"
      ],
      "execution_count": 12,
      "outputs": []
    },
    {
      "cell_type": "code",
      "metadata": {
        "colab": {
          "base_uri": "https://localhost:8080/",
          "height": 204
        },
        "id": "HvgWbPsGTQ76",
        "outputId": "6db82209-db64-44aa-db8d-9294148d4469"
      },
      "source": [
        "data.head()"
      ],
      "execution_count": 13,
      "outputs": [
        {
          "output_type": "execute_result",
          "data": {
            "text/html": [
              "<div>\n",
              "<style scoped>\n",
              "    .dataframe tbody tr th:only-of-type {\n",
              "        vertical-align: middle;\n",
              "    }\n",
              "\n",
              "    .dataframe tbody tr th {\n",
              "        vertical-align: top;\n",
              "    }\n",
              "\n",
              "    .dataframe thead th {\n",
              "        text-align: right;\n",
              "    }\n",
              "</style>\n",
              "<table border=\"1\" class=\"dataframe\">\n",
              "  <thead>\n",
              "    <tr style=\"text-align: right;\">\n",
              "      <th></th>\n",
              "      <th>message</th>\n",
              "      <th>label_ham</th>\n",
              "      <th>label_spam</th>\n",
              "      <th>count</th>\n",
              "    </tr>\n",
              "  </thead>\n",
              "  <tbody>\n",
              "    <tr>\n",
              "      <th>0</th>\n",
              "      <td>Go until jurong point, crazy.. Available only ...</td>\n",
              "      <td>1</td>\n",
              "      <td>0</td>\n",
              "      <td>111</td>\n",
              "    </tr>\n",
              "    <tr>\n",
              "      <th>1</th>\n",
              "      <td>Ok lar... Joking wif u oni...</td>\n",
              "      <td>1</td>\n",
              "      <td>0</td>\n",
              "      <td>29</td>\n",
              "    </tr>\n",
              "    <tr>\n",
              "      <th>2</th>\n",
              "      <td>Free entry in 2 a wkly comp to win FA Cup fina...</td>\n",
              "      <td>0</td>\n",
              "      <td>1</td>\n",
              "      <td>155</td>\n",
              "    </tr>\n",
              "    <tr>\n",
              "      <th>3</th>\n",
              "      <td>U dun say so early hor... U c already then say...</td>\n",
              "      <td>1</td>\n",
              "      <td>0</td>\n",
              "      <td>49</td>\n",
              "    </tr>\n",
              "    <tr>\n",
              "      <th>4</th>\n",
              "      <td>Nah I don't think he goes to usf, he lives aro...</td>\n",
              "      <td>1</td>\n",
              "      <td>0</td>\n",
              "      <td>61</td>\n",
              "    </tr>\n",
              "  </tbody>\n",
              "</table>\n",
              "</div>"
            ],
            "text/plain": [
              "                                             message  ...  count\n",
              "0  Go until jurong point, crazy.. Available only ...  ...    111\n",
              "1                      Ok lar... Joking wif u oni...  ...     29\n",
              "2  Free entry in 2 a wkly comp to win FA Cup fina...  ...    155\n",
              "3  U dun say so early hor... U c already then say...  ...     49\n",
              "4  Nah I don't think he goes to usf, he lives aro...  ...     61\n",
              "\n",
              "[5 rows x 4 columns]"
            ]
          },
          "metadata": {
            "tags": []
          },
          "execution_count": 13
        }
      ]
    },
    {
      "cell_type": "code",
      "metadata": {
        "colab": {
          "base_uri": "https://localhost:8080/",
          "height": 297
        },
        "id": "Doz676rDTcWz",
        "outputId": "c0427d4c-0d9d-4593-94fa-8cbd1c084741"
      },
      "source": [
        "data.describe()"
      ],
      "execution_count": 14,
      "outputs": [
        {
          "output_type": "execute_result",
          "data": {
            "text/html": [
              "<div>\n",
              "<style scoped>\n",
              "    .dataframe tbody tr th:only-of-type {\n",
              "        vertical-align: middle;\n",
              "    }\n",
              "\n",
              "    .dataframe tbody tr th {\n",
              "        vertical-align: top;\n",
              "    }\n",
              "\n",
              "    .dataframe thead th {\n",
              "        text-align: right;\n",
              "    }\n",
              "</style>\n",
              "<table border=\"1\" class=\"dataframe\">\n",
              "  <thead>\n",
              "    <tr style=\"text-align: right;\">\n",
              "      <th></th>\n",
              "      <th>label_ham</th>\n",
              "      <th>label_spam</th>\n",
              "      <th>count</th>\n",
              "    </tr>\n",
              "  </thead>\n",
              "  <tbody>\n",
              "    <tr>\n",
              "      <th>count</th>\n",
              "      <td>5572.000000</td>\n",
              "      <td>5572.000000</td>\n",
              "      <td>5572.000000</td>\n",
              "    </tr>\n",
              "    <tr>\n",
              "      <th>mean</th>\n",
              "      <td>0.865937</td>\n",
              "      <td>0.134063</td>\n",
              "      <td>80.118808</td>\n",
              "    </tr>\n",
              "    <tr>\n",
              "      <th>std</th>\n",
              "      <td>0.340751</td>\n",
              "      <td>0.340751</td>\n",
              "      <td>59.690841</td>\n",
              "    </tr>\n",
              "    <tr>\n",
              "      <th>min</th>\n",
              "      <td>0.000000</td>\n",
              "      <td>0.000000</td>\n",
              "      <td>2.000000</td>\n",
              "    </tr>\n",
              "    <tr>\n",
              "      <th>25%</th>\n",
              "      <td>1.000000</td>\n",
              "      <td>0.000000</td>\n",
              "      <td>36.000000</td>\n",
              "    </tr>\n",
              "    <tr>\n",
              "      <th>50%</th>\n",
              "      <td>1.000000</td>\n",
              "      <td>0.000000</td>\n",
              "      <td>61.000000</td>\n",
              "    </tr>\n",
              "    <tr>\n",
              "      <th>75%</th>\n",
              "      <td>1.000000</td>\n",
              "      <td>0.000000</td>\n",
              "      <td>121.000000</td>\n",
              "    </tr>\n",
              "    <tr>\n",
              "      <th>max</th>\n",
              "      <td>1.000000</td>\n",
              "      <td>1.000000</td>\n",
              "      <td>910.000000</td>\n",
              "    </tr>\n",
              "  </tbody>\n",
              "</table>\n",
              "</div>"
            ],
            "text/plain": [
              "         label_ham   label_spam        count\n",
              "count  5572.000000  5572.000000  5572.000000\n",
              "mean      0.865937     0.134063    80.118808\n",
              "std       0.340751     0.340751    59.690841\n",
              "min       0.000000     0.000000     2.000000\n",
              "25%       1.000000     0.000000    36.000000\n",
              "50%       1.000000     0.000000    61.000000\n",
              "75%       1.000000     0.000000   121.000000\n",
              "max       1.000000     1.000000   910.000000"
            ]
          },
          "metadata": {
            "tags": []
          },
          "execution_count": 14
        }
      ]
    },
    {
      "cell_type": "markdown",
      "metadata": {
        "id": "14IQg8h5U7lx"
      },
      "source": [
        "<h1>Processing Message</h1>"
      ]
    },
    {
      "cell_type": "code",
      "metadata": {
        "colab": {
          "base_uri": "https://localhost:8080/",
          "height": 52
        },
        "id": "pU1P1g6HTlqL",
        "outputId": "520d0e3a-24af-4077-f87b-af72b492c37c"
      },
      "source": [
        "data['message'][0]"
      ],
      "execution_count": 15,
      "outputs": [
        {
          "output_type": "execute_result",
          "data": {
            "application/vnd.google.colaboratory.intrinsic+json": {
              "type": "string"
            },
            "text/plain": [
              "'Go until jurong point, crazy.. Available only in bugis n great world la e buffet... Cine there got amore wat...'"
            ]
          },
          "metadata": {
            "tags": []
          },
          "execution_count": 15
        }
      ]
    },
    {
      "cell_type": "markdown",
      "metadata": {
        "id": "jnOl6FQ0VOzw"
      },
      "source": [
        "**Preparing Word Vector Corpus**"
      ]
    },
    {
      "cell_type": "code",
      "metadata": {
        "id": "Ip3ua52DVCbM"
      },
      "source": [
        "corpus = []"
      ],
      "execution_count": 16,
      "outputs": []
    },
    {
      "cell_type": "markdown",
      "metadata": {
        "id": "CpMsrTtLVW3Z"
      },
      "source": [
        "**Using Porter Stemmer**"
      ]
    },
    {
      "cell_type": "code",
      "metadata": {
        "id": "HjMDFX3gVVy0"
      },
      "source": [
        "from nltk.stem.porter import PorterStemmer\n",
        "import re\n",
        "from nltk.corpus import stopwords\n",
        "from sklearn.feature_extraction.text import CountVectorizer"
      ],
      "execution_count": 17,
      "outputs": []
    },
    {
      "cell_type": "code",
      "metadata": {
        "id": "sa_9NFsNVfpW"
      },
      "source": [
        "ps = PorterStemmer()"
      ],
      "execution_count": 18,
      "outputs": []
    },
    {
      "cell_type": "code",
      "metadata": {
        "colab": {
          "base_uri": "https://localhost:8080/"
        },
        "id": "bMsp-jUFVluX",
        "outputId": "95502c40-c039-4ee7-b7bc-fe7396122b1c"
      },
      "source": [
        "for i in range(0, 5572):\n",
        "  #regular expressions\n",
        "  msg = data['message'][i]\n",
        "  #deal with email addresses\n",
        "  msg = re.sub('\\b[\\w\\-.]+?@\\w+?\\.\\w{2,4}\\b', 'emailaddr', data['message'][i])\n",
        "  #urls\n",
        "  msg = re.sub('(http[s]?\\S+)|(\\w+\\.[A-Za-z]{2,4}\\S*)', 'httpaddr', data['message'][i])\n",
        "  #money symbols\n",
        "  msg = re.sub('([A-Z]{3}|[A-Z]?[\\$€¥])?\\s?(\\d{1,3}((,\\d{1,3})+)?(.\\d{1,3})?(.\\d{1,3})?(,\\d{1,3})?)', 'moneysymb', data['message'][i])\n",
        "  #phone numbers\n",
        "  msg = re.sub('\\b(\\+\\d{1,2}\\s)?\\d?[\\-(.]?\\d{3}\\)?[\\s.-]?\\d{3}[\\s.-]?\\d{4}\\b', 'phonenumbr', data['message'][i])\n",
        "  #numbers\n",
        "  msg = re.sub('\\d+(\\.\\d+)?', 'numbr', data['message'][i])\n",
        "\n",
        "  #Removing punctuations\n",
        "  msg = re.sub('[^\\w\\d\\s]', ' ', data['message'][i])\n",
        "  if i==0:\n",
        "    print(\"\\t\\t\\t\\t Message\", i)\n",
        "\n",
        "  if i==0:\n",
        "    print(\"\\n After Regular Expression - Message \", i, \" : \", msg)\n",
        "\n",
        "  #Each Word to lowercase\n",
        "  msg = msg.lower()\n",
        "  if i==0:\n",
        "    print(\"\\n Lower case Message \", i, \" : \", msg)\n",
        "  \n",
        "  #Splitting words \n",
        "  msg = msg.split()    \n",
        "  if i==0:\n",
        "    print(\"\\n After Splitting Message \", i, \" : \", msg)\n",
        "    \n",
        "  #Stemming with PorterStemmer handling Stop Words\n",
        "  msg = [ps.stem(word) for word in msg if not word in set(stopwords.words('english'))]\n",
        "  if i==0:\n",
        "    print(\"\\n After Stemming Message \", i, \" : \", msg)\n",
        "    \n",
        "  # preparing Messages with Remaining Tokens\n",
        "  msg = ' '.join(msg)\n",
        "  if i==0:\n",
        "    print(\"\\n Final Prepared Message \", i, \" : \", msg, \"\\n\\n\")\n",
        "    \n",
        "  # Preparing WordVector Corpus\n",
        "  corpus.append(msg)"
      ],
      "execution_count": 19,
      "outputs": [
        {
          "output_type": "stream",
          "text": [
            "\t\t\t\t Message 0\n",
            "\n",
            " After Regular Expression - Message  0  :  Go until jurong point  crazy   Available only in bugis n great world la e buffet    Cine there got amore wat   \n",
            "\n",
            " Lower case Message  0  :  go until jurong point  crazy   available only in bugis n great world la e buffet    cine there got amore wat   \n",
            "\n",
            " After Splitting Message  0  :  ['go', 'until', 'jurong', 'point', 'crazy', 'available', 'only', 'in', 'bugis', 'n', 'great', 'world', 'la', 'e', 'buffet', 'cine', 'there', 'got', 'amore', 'wat']\n",
            "\n",
            " After Stemming Message  0  :  ['go', 'jurong', 'point', 'crazi', 'avail', 'bugi', 'n', 'great', 'world', 'la', 'e', 'buffet', 'cine', 'got', 'amor', 'wat']\n",
            "\n",
            " Final Prepared Message  0  :  go jurong point crazi avail bugi n great world la e buffet cine got amor wat \n",
            "\n",
            "\n"
          ],
          "name": "stdout"
        }
      ]
    },
    {
      "cell_type": "markdown",
      "metadata": {
        "id": "tFindlgVb7f8"
      },
      "source": [
        "<h1>Preparing Vectors for Each Message</h1>"
      ]
    },
    {
      "cell_type": "code",
      "metadata": {
        "id": "hVgV8wQmatWU"
      },
      "source": [
        "cv = CountVectorizer()"
      ],
      "execution_count": 20,
      "outputs": []
    },
    {
      "cell_type": "code",
      "metadata": {
        "colab": {
          "base_uri": "https://localhost:8080/"
        },
        "id": "LG-z6gEKcRch",
        "outputId": "535d19ff-be54-4501-f31a-6e3c077e7413"
      },
      "source": [
        "cv"
      ],
      "execution_count": 21,
      "outputs": [
        {
          "output_type": "execute_result",
          "data": {
            "text/plain": [
              "CountVectorizer(analyzer='word', binary=False, decode_error='strict',\n",
              "                dtype=<class 'numpy.int64'>, encoding='utf-8', input='content',\n",
              "                lowercase=True, max_df=1.0, max_features=None, min_df=1,\n",
              "                ngram_range=(1, 1), preprocessor=None, stop_words=None,\n",
              "                strip_accents=None, token_pattern='(?u)\\\\b\\\\w\\\\w+\\\\b',\n",
              "                tokenizer=None, vocabulary=None)"
            ]
          },
          "metadata": {
            "tags": []
          },
          "execution_count": 21
        }
      ]
    },
    {
      "cell_type": "code",
      "metadata": {
        "id": "27LVaVX8cSnZ"
      },
      "source": [
        "#converting messages to numeric form\n",
        "data_input = cv.fit_transform(corpus).toarray()"
      ],
      "execution_count": 22,
      "outputs": []
    },
    {
      "cell_type": "code",
      "metadata": {
        "colab": {
          "base_uri": "https://localhost:8080/"
        },
        "id": "4nxiuorUcpBy",
        "outputId": "35fbab20-df2d-4777-a6cb-48e7e915c2c9"
      },
      "source": [
        "data_input[0]"
      ],
      "execution_count": 23,
      "outputs": [
        {
          "output_type": "execute_result",
          "data": {
            "text/plain": [
              "array([0, 0, 0, ..., 0, 0, 0])"
            ]
          },
          "metadata": {
            "tags": []
          },
          "execution_count": 23
        }
      ]
    },
    {
      "cell_type": "code",
      "metadata": {
        "colab": {
          "base_uri": "https://localhost:8080/"
        },
        "id": "VP2ieHMMcrzY",
        "outputId": "2996bd95-d9fa-4c7c-ff18-64959471d288"
      },
      "source": [
        "data_input"
      ],
      "execution_count": 24,
      "outputs": [
        {
          "output_type": "execute_result",
          "data": {
            "text/plain": [
              "array([[0, 0, 0, ..., 0, 0, 0],\n",
              "       [0, 0, 0, ..., 0, 0, 0],\n",
              "       [0, 0, 0, ..., 0, 0, 0],\n",
              "       ...,\n",
              "       [0, 0, 0, ..., 0, 0, 0],\n",
              "       [0, 0, 0, ..., 0, 0, 0],\n",
              "       [0, 0, 0, ..., 0, 0, 0]])"
            ]
          },
          "metadata": {
            "tags": []
          },
          "execution_count": 24
        }
      ]
    },
    {
      "cell_type": "code",
      "metadata": {
        "colab": {
          "base_uri": "https://localhost:8080/"
        },
        "id": "2KyNoJ48c5D-",
        "outputId": "f6b87f04-5520-4587-8859-05fedeec60f5"
      },
      "source": [
        "data_input.shape"
      ],
      "execution_count": 25,
      "outputs": [
        {
          "output_type": "execute_result",
          "data": {
            "text/plain": [
              "(5572, 7213)"
            ]
          },
          "metadata": {
            "tags": []
          },
          "execution_count": 25
        }
      ]
    },
    {
      "cell_type": "markdown",
      "metadata": {
        "id": "6WR9HDUNy4pH"
      },
      "source": [
        "<h1>Applying Classification</h1>\n",
        "\n",
        "> \n",
        "\n",
        "*   **Input: Prepared Sparse Matrix/Vectors for Each Message**\n",
        "*   **Output: Label i.e. Spam or Ham**\n",
        "\n",
        "\n",
        "\n"
      ]
    },
    {
      "cell_type": "code",
      "metadata": {
        "colab": {
          "base_uri": "https://localhost:8080/",
          "height": 204
        },
        "id": "M2pLEOdxdW32",
        "outputId": "42342b06-e2a2-484b-9ec9-b2d7839a5927"
      },
      "source": [
        "data.head()"
      ],
      "execution_count": 26,
      "outputs": [
        {
          "output_type": "execute_result",
          "data": {
            "text/html": [
              "<div>\n",
              "<style scoped>\n",
              "    .dataframe tbody tr th:only-of-type {\n",
              "        vertical-align: middle;\n",
              "    }\n",
              "\n",
              "    .dataframe tbody tr th {\n",
              "        vertical-align: top;\n",
              "    }\n",
              "\n",
              "    .dataframe thead th {\n",
              "        text-align: right;\n",
              "    }\n",
              "</style>\n",
              "<table border=\"1\" class=\"dataframe\">\n",
              "  <thead>\n",
              "    <tr style=\"text-align: right;\">\n",
              "      <th></th>\n",
              "      <th>message</th>\n",
              "      <th>label_ham</th>\n",
              "      <th>label_spam</th>\n",
              "      <th>count</th>\n",
              "    </tr>\n",
              "  </thead>\n",
              "  <tbody>\n",
              "    <tr>\n",
              "      <th>0</th>\n",
              "      <td>Go until jurong point, crazy.. Available only ...</td>\n",
              "      <td>1</td>\n",
              "      <td>0</td>\n",
              "      <td>111</td>\n",
              "    </tr>\n",
              "    <tr>\n",
              "      <th>1</th>\n",
              "      <td>Ok lar... Joking wif u oni...</td>\n",
              "      <td>1</td>\n",
              "      <td>0</td>\n",
              "      <td>29</td>\n",
              "    </tr>\n",
              "    <tr>\n",
              "      <th>2</th>\n",
              "      <td>Free entry in 2 a wkly comp to win FA Cup fina...</td>\n",
              "      <td>0</td>\n",
              "      <td>1</td>\n",
              "      <td>155</td>\n",
              "    </tr>\n",
              "    <tr>\n",
              "      <th>3</th>\n",
              "      <td>U dun say so early hor... U c already then say...</td>\n",
              "      <td>1</td>\n",
              "      <td>0</td>\n",
              "      <td>49</td>\n",
              "    </tr>\n",
              "    <tr>\n",
              "      <th>4</th>\n",
              "      <td>Nah I don't think he goes to usf, he lives aro...</td>\n",
              "      <td>1</td>\n",
              "      <td>0</td>\n",
              "      <td>61</td>\n",
              "    </tr>\n",
              "  </tbody>\n",
              "</table>\n",
              "</div>"
            ],
            "text/plain": [
              "                                             message  ...  count\n",
              "0  Go until jurong point, crazy.. Available only ...  ...    111\n",
              "1                      Ok lar... Joking wif u oni...  ...     29\n",
              "2  Free entry in 2 a wkly comp to win FA Cup fina...  ...    155\n",
              "3  U dun say so early hor... U c already then say...  ...     49\n",
              "4  Nah I don't think he goes to usf, he lives aro...  ...     61\n",
              "\n",
              "[5 rows x 4 columns]"
            ]
          },
          "metadata": {
            "tags": []
          },
          "execution_count": 26
        }
      ]
    },
    {
      "cell_type": "code",
      "metadata": {
        "id": "Ru85iLhrz2g2"
      },
      "source": [
        "data_output = data['label_ham']"
      ],
      "execution_count": 27,
      "outputs": []
    },
    {
      "cell_type": "code",
      "metadata": {
        "colab": {
          "base_uri": "https://localhost:8080/"
        },
        "id": "O7FHVlRl0Igj",
        "outputId": "c66e6ee4-1ac3-4508-c443-01c289570e20"
      },
      "source": [
        "data_output.value_counts()"
      ],
      "execution_count": 28,
      "outputs": [
        {
          "output_type": "execute_result",
          "data": {
            "text/plain": [
              "1    4825\n",
              "0     747\n",
              "Name: label_ham, dtype: int64"
            ]
          },
          "metadata": {
            "tags": []
          },
          "execution_count": 28
        }
      ]
    },
    {
      "cell_type": "markdown",
      "metadata": {
        "id": "nCGTKQ290Osc"
      },
      "source": [
        "**Data Splitting**"
      ]
    },
    {
      "cell_type": "code",
      "metadata": {
        "id": "CmMnV2xx0MQ-"
      },
      "source": [
        "from sklearn.model_selection import train_test_split"
      ],
      "execution_count": 29,
      "outputs": []
    },
    {
      "cell_type": "code",
      "metadata": {
        "id": "C-vilqzy0YBR"
      },
      "source": [
        "train_x, test_x, train_y, test_y = train_test_split(data_input, data_output, test_size=0.20, random_state=0)"
      ],
      "execution_count": 30,
      "outputs": []
    },
    {
      "cell_type": "markdown",
      "metadata": {
        "id": "q2u30A7q1cmP"
      },
      "source": [
        "<h1>ML Model</h1>"
      ]
    },
    {
      "cell_type": "code",
      "metadata": {
        "id": "eiBF3Bp41Z7L"
      },
      "source": [
        "from sklearn.naive_bayes import GaussianNB\n",
        "from sklearn.ensemble import RandomForestClassifier\n",
        "from sklearn import tree\n",
        "from sklearn.metrics import accuracy_score\n",
        "from sklearn.metrics import classification_report"
      ],
      "execution_count": 31,
      "outputs": []
    },
    {
      "cell_type": "markdown",
      "metadata": {
        "id": "t-h7yN0f2GcA"
      },
      "source": [
        "**Training**"
      ]
    },
    {
      "cell_type": "code",
      "metadata": {
        "id": "BSy4dh1u2AiP"
      },
      "source": [
        "nvb = GaussianNB()\n",
        "nvb.fit(train_x, train_y)\n",
        "\n",
        "dec = tree.DecisionTreeClassifier()\n",
        "dec.fit(train_x, train_y)\n",
        "\n",
        "# rf = RandomForestClassifier(n_estimators=200)\n",
        "# rf.fit(train_x, train_y)"
      ],
      "execution_count": 32,
      "outputs": []
    },
    {
      "cell_type": "markdown",
      "metadata": {
        "id": "B9gUyM2X2wSa"
      },
      "source": [
        "**Predictions**"
      ]
    },
    {
      "cell_type": "code",
      "metadata": {
        "id": "owqjXXIF2tn3"
      },
      "source": [
        "pred_nvb = nvb.predict(test_x)\n",
        "pred_dec = dec.predict(test_x)"
      ],
      "execution_count": 33,
      "outputs": []
    },
    {
      "cell_type": "code",
      "metadata": {
        "colab": {
          "base_uri": "https://localhost:8080/"
        },
        "id": "K55ZKvfB3CrR",
        "outputId": "520cdbd9-987d-47fc-ba80-c791417b0798"
      },
      "source": [
        "print (\"Accuracy : %0.5f \\n\\n\" % accuracy_score(test_y, pred_nvb))\n",
        "print (classification_report(test_y, pred_nvb))"
      ],
      "execution_count": 34,
      "outputs": [
        {
          "output_type": "stream",
          "text": [
            "Accuracy : 0.87085 \n",
            "\n",
            "\n",
            "              precision    recall  f1-score   support\n",
            "\n",
            "           0       0.54      0.89      0.67       166\n",
            "           1       0.98      0.87      0.92       949\n",
            "\n",
            "    accuracy                           0.87      1115\n",
            "   macro avg       0.76      0.88      0.80      1115\n",
            "weighted avg       0.91      0.87      0.88      1115\n",
            "\n"
          ],
          "name": "stdout"
        }
      ]
    },
    {
      "cell_type": "code",
      "metadata": {
        "colab": {
          "base_uri": "https://localhost:8080/"
        },
        "id": "hqs92ArD3heR",
        "outputId": "d470e39b-6b85-4ecd-d8c6-1de9550a976f"
      },
      "source": [
        "print (\"Accuracy : %0.5f \\n\\n\" % accuracy_score(test_y, pred_dec))\n",
        "print (classification_report(test_y, pred_dec))"
      ],
      "execution_count": 35,
      "outputs": [
        {
          "output_type": "stream",
          "text": [
            "Accuracy : 0.97130 \n",
            "\n",
            "\n",
            "              precision    recall  f1-score   support\n",
            "\n",
            "           0       0.97      0.83      0.90       166\n",
            "           1       0.97      1.00      0.98       949\n",
            "\n",
            "    accuracy                           0.97      1115\n",
            "   macro avg       0.97      0.91      0.94      1115\n",
            "weighted avg       0.97      0.97      0.97      1115\n",
            "\n"
          ],
          "name": "stdout"
        }
      ]
    },
    {
      "cell_type": "code",
      "metadata": {
        "id": "xvKb5P4y5FSt"
      },
      "source": [
        "# print (\"Accuracy : %0.5f \\n\\n\" % accuracy_score(test_y, pred_rf))\n",
        "# print (classification_report(test_y, pred_rf))"
      ],
      "execution_count": 36,
      "outputs": []
    },
    {
      "cell_type": "markdown",
      "metadata": {
        "id": "iJJ6bE3W5sP8"
      },
      "source": [
        "<h1>Final Accuracy</h1>\n",
        "\n",
        "\n",
        "> \n",
        "\n",
        "*   **Random Forest : 97.220%**\n",
        "*   **Decision Tree : 97.040%**\n",
        "*   **GaussianNB : 87.085%**\n",
        "\n",
        "\n",
        "\n",
        "\n",
        "\n"
      ]
    },
    {
      "cell_type": "markdown",
      "metadata": {
        "id": "CswGT_VecHgY"
      },
      "source": [
        "<h1>Hyperparameter Tuning for Random Forest</h1>"
      ]
    },
    {
      "cell_type": "code",
      "metadata": {
        "id": "rbtif0RU5Kid"
      },
      "source": [
        "from sklearn.model_selection import GridSearchCV"
      ],
      "execution_count": 40,
      "outputs": []
    },
    {
      "cell_type": "code",
      "metadata": {
        "colab": {
          "base_uri": "https://localhost:8080/"
        },
        "id": "JZjnTaH0caJs",
        "outputId": "40b44521-a3d5-48e9-cf99-6aa4923d042c"
      },
      "source": [
        "params = {\n",
        "  'bootstrap': [True, False],\n",
        " 'max_depth': [4, 6, 8, 10, 12, 16, None],\n",
        " 'max_features': ['auto', 'sqrt'],\n",
        " 'n_estimators': [100, 200, 300, 400, 500, 600],\n",
        " }\n",
        "random_rf = GridSearchCV(estimator = rf, param_grid = params, cv = 3, verbose=2, n_jobs = -1)\n",
        "random_rf.fit(train_x, train_y)"
      ],
      "execution_count": 42,
      "outputs": [
        {
          "output_type": "stream",
          "text": [
            "Fitting 3 folds for each of 168 candidates, totalling 504 fits\n"
          ],
          "name": "stdout"
        },
        {
          "output_type": "stream",
          "text": [
            "[Parallel(n_jobs=-1)]: Using backend LokyBackend with 2 concurrent workers.\n",
            "[Parallel(n_jobs=-1)]: Done  37 tasks      | elapsed:  1.9min\n",
            "[Parallel(n_jobs=-1)]: Done 158 tasks      | elapsed: 12.7min\n",
            "[Parallel(n_jobs=-1)]: Done 361 tasks      | elapsed: 53.5min\n",
            "[Parallel(n_jobs=-1)]: Done 504 out of 504 | elapsed: 116.5min finished\n"
          ],
          "name": "stderr"
        },
        {
          "output_type": "execute_result",
          "data": {
            "text/plain": [
              "GridSearchCV(cv=3, error_score=nan,\n",
              "             estimator=RandomForestClassifier(bootstrap=True, ccp_alpha=0.0,\n",
              "                                              class_weight=None,\n",
              "                                              criterion='gini', max_depth=None,\n",
              "                                              max_features='auto',\n",
              "                                              max_leaf_nodes=None,\n",
              "                                              max_samples=None,\n",
              "                                              min_impurity_decrease=0.0,\n",
              "                                              min_impurity_split=None,\n",
              "                                              min_samples_leaf=1,\n",
              "                                              min_samples_split=2,\n",
              "                                              min_weight_fraction_leaf=0.0,\n",
              "                                              n_estimators=200, n_jobs=None,\n",
              "                                              oob_score=False,\n",
              "                                              random_state=None, verbose=0,\n",
              "                                              warm_start=False),\n",
              "             iid='deprecated', n_jobs=-1,\n",
              "             param_grid={'bootstrap': [True, False],\n",
              "                         'max_depth': [4, 6, 8, 10, 12, 16, None],\n",
              "                         'max_features': ['auto', 'sqrt'],\n",
              "                         'n_estimators': [100, 200, 300, 400, 500, 600]},\n",
              "             pre_dispatch='2*n_jobs', refit=True, return_train_score=False,\n",
              "             scoring=None, verbose=2)"
            ]
          },
          "metadata": {
            "tags": []
          },
          "execution_count": 42
        }
      ]
    },
    {
      "cell_type": "code",
      "metadata": {
        "id": "SDFtmRNgdlph",
        "colab": {
          "base_uri": "https://localhost:8080/"
        },
        "outputId": "ef377f2c-1e42-44de-9764-c58609295b7f"
      },
      "source": [
        "rf = RandomForestClassifier(bootstrap=True, ccp_alpha=0.0,\n",
        "                                              class_weight=None,\n",
        "                                              criterion='gini', max_depth=None,\n",
        "                                              max_features='auto',\n",
        "                                              max_leaf_nodes=None,\n",
        "                                              max_samples=None,\n",
        "                                              min_impurity_decrease=0.0,\n",
        "                                              min_impurity_split=None,\n",
        "                                              min_samples_leaf=1,\n",
        "                                              min_samples_split=2,\n",
        "                                              min_weight_fraction_leaf=0.0,\n",
        "                                              n_estimators=200, n_jobs=None,\n",
        "                                              oob_score=False,\n",
        "                                              random_state=None, verbose=0,\n",
        "                                              warm_start=False)\n",
        "rf.fit(train_x, train_y)"
      ],
      "execution_count": 43,
      "outputs": [
        {
          "output_type": "execute_result",
          "data": {
            "text/plain": [
              "RandomForestClassifier(bootstrap=True, ccp_alpha=0.0, class_weight=None,\n",
              "                       criterion='gini', max_depth=None, max_features='auto',\n",
              "                       max_leaf_nodes=None, max_samples=None,\n",
              "                       min_impurity_decrease=0.0, min_impurity_split=None,\n",
              "                       min_samples_leaf=1, min_samples_split=2,\n",
              "                       min_weight_fraction_leaf=0.0, n_estimators=200,\n",
              "                       n_jobs=None, oob_score=False, random_state=None,\n",
              "                       verbose=0, warm_start=False)"
            ]
          },
          "metadata": {
            "tags": []
          },
          "execution_count": 43
        }
      ]
    },
    {
      "cell_type": "code",
      "metadata": {
        "colab": {
          "base_uri": "https://localhost:8080/"
        },
        "id": "3ZXhLKyUSnPl",
        "outputId": "80003615-fa15-4395-8312-02b39e0edfd1"
      },
      "source": [
        "pred_rf = rf.predict(test_x)\n",
        "print (\"Accuracy : %0.5f \\n\\n\" % accuracy_score(test_y, pred_rf))\n",
        "print (classification_report(test_y, pred_rf))"
      ],
      "execution_count": 44,
      "outputs": [
        {
          "output_type": "stream",
          "text": [
            "Accuracy : 0.97309 \n",
            "\n",
            "\n",
            "              precision    recall  f1-score   support\n",
            "\n",
            "           0       1.00      0.82      0.90       166\n",
            "           1       0.97      1.00      0.98       949\n",
            "\n",
            "    accuracy                           0.97      1115\n",
            "   macro avg       0.98      0.91      0.94      1115\n",
            "weighted avg       0.97      0.97      0.97      1115\n",
            "\n"
          ],
          "name": "stdout"
        }
      ]
    },
    {
      "cell_type": "markdown",
      "metadata": {
        "id": "BGG-wfYeZNd-"
      },
      "source": [
        "Accuracy increased by:\n",
        "**0.089%**"
      ]
    },
    {
      "cell_type": "markdown",
      "metadata": {
        "id": "440QL60QaC64"
      },
      "source": [
        "<h1> KFold Cross validation</h1>"
      ]
    },
    {
      "cell_type": "code",
      "metadata": {
        "id": "jfvVkX4LUokr"
      },
      "source": [
        "from sklearn.model_selection import KFold"
      ],
      "execution_count": 45,
      "outputs": []
    },
    {
      "cell_type": "code",
      "metadata": {
        "colab": {
          "base_uri": "https://localhost:8080/"
        },
        "id": "8dUhFsPRU0Kr",
        "outputId": "a8c43e06-01f3-45c5-9494-af6832efb049"
      },
      "source": [
        "kfold = KFold(n_splits=5, random_state=0, shuffle=False)"
      ],
      "execution_count": 46,
      "outputs": [
        {
          "output_type": "stream",
          "text": [
            "/usr/local/lib/python3.7/dist-packages/sklearn/model_selection/_split.py:296: FutureWarning: Setting a random_state has no effect since shuffle is False. This will raise an error in 0.24. You should leave random_state to its default (None), or set shuffle=True.\n",
            "  FutureWarning\n"
          ],
          "name": "stderr"
        }
      ]
    },
    {
      "cell_type": "code",
      "metadata": {
        "id": "FGeV60goVyOl"
      },
      "source": [
        "# preparing a fresh random forest\n",
        "rf1 = RandomForestClassifier(bootstrap=True, ccp_alpha=0.0,\n",
        "                                              class_weight=None,\n",
        "                                              criterion='gini', max_depth=None,\n",
        "                                              max_features='auto',\n",
        "                                              max_leaf_nodes=None,\n",
        "                                              max_samples=None,\n",
        "                                              min_impurity_decrease=0.0,\n",
        "                                              min_impurity_split=None,\n",
        "                                              min_samples_leaf=1,\n",
        "                                              min_samples_split=2,\n",
        "                                              min_weight_fraction_leaf=0.0,\n",
        "                                              n_estimators=200, n_jobs=None,\n",
        "                                              oob_score=False,\n",
        "                                              random_state=None, verbose=0,\n",
        "                                              warm_start=False)\n",
        "accuracy = []\n",
        "for train_index,test_index in kfold.split(data_input):\n",
        "  xtrain,xtest = data_input[train_index], data_input[test_index]\n",
        "  ytrain,ytest = data_output[train_index], data_output[test_index]\n",
        "\n",
        "  rf1 = RandomForestClassifier(bootstrap=True, ccp_alpha=0.0,\n",
        "                                              class_weight=None,\n",
        "                                              criterion='gini', max_depth=None,\n",
        "                                              max_features='auto',\n",
        "                                              max_leaf_nodes=None,\n",
        "                                              max_samples=None,\n",
        "                                              min_impurity_decrease=0.0,\n",
        "                                              min_impurity_split=None,\n",
        "                                              min_samples_leaf=1,\n",
        "                                              min_samples_split=2,\n",
        "                                              min_weight_fraction_leaf=0.0,\n",
        "                                              n_estimators=200, n_jobs=None,\n",
        "                                              oob_score=False,\n",
        "                                              random_state=None, verbose=0,\n",
        "                                              warm_start=False)\n",
        "  rf1.fit(xtrain, ytrain)\n",
        "\n",
        "  prediction = rf1.predict(xtest)\n",
        "  accuracy.append(accuracy_score(ytest, prediction))\n"
      ],
      "execution_count": 47,
      "outputs": []
    },
    {
      "cell_type": "code",
      "metadata": {
        "colab": {
          "base_uri": "https://localhost:8080/"
        },
        "id": "hmJKq--bYqlP",
        "outputId": "492c63ab-6f24-4cc6-8736-9ca57ccc9f3f"
      },
      "source": [
        "accuracy"
      ],
      "execution_count": 48,
      "outputs": [
        {
          "output_type": "execute_result",
          "data": {
            "text/plain": [
              "[0.9766816143497757,\n",
              " 0.97847533632287,\n",
              " 0.9757630161579892,\n",
              " 0.9712746858168761,\n",
              " 0.9748653500897666]"
            ]
          },
          "metadata": {
            "tags": []
          },
          "execution_count": 48
        }
      ]
    },
    {
      "cell_type": "code",
      "metadata": {
        "colab": {
          "base_uri": "https://localhost:8080/"
        },
        "id": "si9zVCpkYsni",
        "outputId": "f86409bc-35bb-4123-b980-5f5d5196ef9e"
      },
      "source": [
        "np.mean(accuracy)"
      ],
      "execution_count": 49,
      "outputs": [
        {
          "output_type": "execute_result",
          "data": {
            "text/plain": [
              "0.9754120005474555"
            ]
          },
          "metadata": {
            "tags": []
          },
          "execution_count": 49
        }
      ]
    },
    {
      "cell_type": "markdown",
      "metadata": {
        "id": "dNXgy85EaP3f"
      },
      "source": [
        "*Maximum Accuracy Score:* **97.541%**"
      ]
    },
    {
      "cell_type": "code",
      "metadata": {
        "id": "B-ncdEOkZBKe"
      },
      "source": [
        ""
      ],
      "execution_count": null,
      "outputs": []
    }
  ]
}